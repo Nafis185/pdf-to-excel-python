# ✅ STEP 1: Install Required Package (if not already installed)
!pip install PyPDF2 pandas openpyxl

# ✅ STEP 2: Upload PDF
from google.colab import files
uploaded = files.upload()

import re
import pandas as pd
from PyPDF2 import PdfReader

# ✅ STEP 3: Load the PDF (assuming only one PDF uploaded)
pdf_path = list(uploaded.keys())[0]
reader = PdfReader("/content/N -3.pdf")

# ✅ STEP 4: Extract Data Page by Page
data = []

for page in reader.pages:
    text = page.extract_text()
    lines = text.split('\n')

    order_id = order_date = deliver_to = delivery_address = product_name = ""
    total = 0.0

    for idx, line in enumerate(lines):
        if "Order ID" in line:
            order_id = re.search(r'Order ID\s*(\d+)', line)
            if not order_id and idx + 1 < len(lines):
                order_id = re.search(r'(\d+)', lines[idx + 1])
            order_id = order_id.group(1) if order_id else ""

        if "Order Date" in line:
            order_date_match = re.search(r'Order Date:\s*(.*)', line)
            if not order_date_match and idx + 1 < len(lines):
                order_date_match = re.search(r'(.*)', lines[idx + 1])
            order_date = order_date_match.group(1).strip() if order_date_match else ""

        if "Deliver To:" in line:
            deliver_to = lines[idx + 1].strip() if idx + 1 < len(lines) else ""

        if "Delivery Address:" in line:
            addr_lines = []
            for j in range(1, 5):
                if idx + j < len(lines) and "Bill To" not in lines[idx + j]:
                    addr_lines.append(lines[idx + j].strip())
                else:
                    break
            delivery_address = ', '.join(addr_lines)

        if re.match(r'^\s*1\s*$', line.strip()):
            # Product name should be on the next 1-2 lines
            potential_name = []
            for k in range(1, 3):
                if idx + k < len(lines) and not re.match(r'^\d{6,}', lines[idx + k]):
                    potential_name.append(lines[idx + k].strip())
            product_name = ', '.join(potential_name)

        if "Total:" in line:
            total_match = re.search(r'Total:\s*(\d+\.\d+)', line)
            if total_match:
                total = float(total_match.group(1))

    if order_id:
        data.append({
            "Order ID": order_id,
            "Order Date": order_date,
            "Deliver To": deliver_to,
            "Delivery Address": delivery_address,
            "Product Name": product_name,
            "Total": total
        })

# ✅ STEP 5: Save to Excel
df = pd.DataFrame(data)

# Add Summary Row
total_sum = df["Total"].sum()
total_orders = len(df)
summary_row = {
    "Order ID": "TOTAL SUMMARY",
    "Order Date": "",
    "Deliver To": "",
    "Delivery Address": "",
    "Product Name": f"Total Orders: {total_orders}",
    "Total": total_sum
}
df = pd.concat([df, pd.DataFrame([summary_row])], ignore_index=True)

# Save Excel File
output_excel = "Extracted_Order_Details-1.xlsx"
df.to_excel(output_excel, index=False)

# ✅ STEP 6: Download the Excel File
files.download(output_excel)
